{
 "cells": [
  {
   "cell_type": "code",
   "execution_count": null,
   "metadata": {},
   "outputs": [],
   "source": [
    "import pandas as pd\n",
    "import matplotlib.pyplot as plt\n",
    "\n",
    "from statsmodels.tsa.seasonal import seasonal_decompose\n",
    "from statsmodels.tsa.arima.model import ARIMA\n",
    "\n",
    "from sklearn.metrics import mean_squared_error\n",
    "from math import sqrt\n",
    "\n",
    "import pickle\n",
    "import os"
   ]
  },
  {
   "cell_type": "code",
   "execution_count": null,
   "metadata": {},
   "outputs": [],
   "source": [
    "# Lecture de nos données\n",
    "df = pd.read_csv('export_infoclimat.csv', sep=';')"
   ]
  },
  {
   "cell_type": "code",
   "execution_count": null,
   "metadata": {},
   "outputs": [],
   "source": [
    "df.info()"
   ]
  },
  {
   "cell_type": "code",
   "execution_count": null,
   "metadata": {},
   "outputs": [],
   "source": [
    "print(df.isnull().sum())"
   ]
  },
  {
   "cell_type": "code",
   "execution_count": null,
   "metadata": {},
   "outputs": [],
   "source": [
    "# Formatage dans un format date\n",
    "df['dh_utc'] = pd.to_datetime(df['dh_utc'])\n",
    "df = df.set_index('dh_utc').sort_index()\n",
    "\n",
    "# Suppression des colonne station_id (toujours identique) et vent_rafales (toujours nulle)\n",
    "df = df.drop(columns=['station_id', 'vent_rafales'])"
   ]
  },
  {
   "cell_type": "code",
   "execution_count": null,
   "metadata": {},
   "outputs": [],
   "source": [
    "# Remplacement des valeurs nulles\n",
    "df['pluie_3h'] = df['pluie_3h'].fillna(0)\n",
    "df['pluie_1h'] = df['pluie_1h'].fillna(0)\n",
    "for column in df.columns:\n",
    "    if df[column].dtype in ['float64', 'int64'] and column not in ['pluie_3h', 'pluie_1h']:\n",
    "        df[column] = df[column].fillna(df[column].mean())"
   ]
  },
  {
   "cell_type": "code",
   "execution_count": null,
   "metadata": {},
   "outputs": [],
   "source": [
    "# Regroupement des valeurs par jour\n",
    "df_daily = df.resample('D').mean()\n",
    "df_daily = df_daily.dropna()"
   ]
  },
  {
   "cell_type": "code",
   "execution_count": null,
   "metadata": {},
   "outputs": [],
   "source": [
    "# Création d'un graphique pour visualiser les temperature\n",
    "plt.figure(figsize=(15, 4))\n",
    "plt.plot(df_daily['temperature'], marker='o', linestyle='-')\n",
    "plt.gca().set(title='Température moyenne quotidienne', xlabel='Date', ylabel='Température (°C)')\n",
    "plt.xticks(rotation=90)\n",
    "plt.grid(True)\n",
    "plt.show()"
   ]
  },
  {
   "cell_type": "code",
   "execution_count": null,
   "metadata": {},
   "outputs": [],
   "source": [
    "df_daily_temp = df['temperature'].resample('D').interpolate()"
   ]
  },
  {
   "cell_type": "code",
   "execution_count": null,
   "metadata": {},
   "outputs": [],
   "source": [
    "# Décomposition saisonière pour la temperature\n",
    "result = seasonal_decompose(df_daily_temp, model='additive', period=365)"
   ]
  },
  {
   "cell_type": "code",
   "execution_count": null,
   "metadata": {},
   "outputs": [],
   "source": [
    "# Génération des graphiques\n",
    "fig, (ax1, ax2, ax3, ax4) = plt.subplots(4, 1, figsize=(10, 8))\n",
    "result.observed.plot(ax=ax1)\n",
    "ax1.set_ylabel('Observé')\n",
    "result.trend.plot(ax=ax2)\n",
    "ax2.set_ylabel('Tendance')\n",
    "result.seasonal.plot(ax=ax3)\n",
    "ax3.set_ylabel('Saisonnalité')\n",
    "result.resid.plot(ax=ax4)\n",
    "ax4.set_ylabel('Résidu')\n",
    "plt.tight_layout()\n",
    "plt.show()"
   ]
  },
  {
   "cell_type": "code",
   "execution_count": null,
   "metadata": {},
   "outputs": [],
   "source": [
    "# Décomposition saisonière pour la pluie\n",
    "df_daily_rain = df['pluie_1h'].resample('D').interpolate()\n",
    "df_daily_rain = df_daily_rain.dropna()"
   ]
  },
  {
   "cell_type": "code",
   "execution_count": null,
   "metadata": {},
   "outputs": [],
   "source": [
    "result = seasonal_decompose(df_daily_rain, model='additive', period=365)"
   ]
  },
  {
   "cell_type": "code",
   "execution_count": null,
   "metadata": {},
   "outputs": [],
   "source": [
    "fig, (ax1, ax2, ax3, ax4) = plt.subplots(4, 1, figsize=(10, 8))\n",
    "result.observed.plot(ax=ax1)\n",
    "ax1.set_ylabel('Observé')\n",
    "result.trend.plot(ax=ax2)\n",
    "ax2.set_ylabel('Tendance')\n",
    "result.seasonal.plot(ax=ax3)\n",
    "ax3.set_ylabel('Saisonnalité')\n",
    "result.resid.plot(ax=ax4)\n",
    "ax4.set_ylabel('Résidu')\n",
    "plt.tight_layout()\n",
    "plt.show()"
   ]
  },
  {
   "cell_type": "code",
   "execution_count": null,
   "metadata": {},
   "outputs": [],
   "source": [
    "# Recuperation des dataset\n",
    "def get_dataset(champ):\n",
    "    train_df = df_daily.iloc[808:1903]\n",
    "    X_train = train_df[champ]\n",
    "\n",
    "    test_df = df_daily.iloc[1903:1913]\n",
    "    X_test = test_df[champ]\n",
    "\n",
    "    return (train_df, X_train, test_df, X_test)"
   ]
  },
  {
   "cell_type": "code",
   "execution_count": null,
   "metadata": {},
   "outputs": [],
   "source": [
    "# Fonction d'entrainement d'un model ARIMA sur un champ\n",
    "def modelisation(champ):\n",
    "    train_df, X_train, test_df, X_test = get_dataset(champ)\n",
    "\n",
    "    model_ARIMA = ARIMA(X_train, order=(30, 1, 30))  \n",
    "    results_ARIMA = model_ARIMA.fit()  \n",
    "    rmse = sqrt(mean_squared_error(train_df[champ], results_ARIMA.fittedvalues))\n",
    "    print('Test RMSE: %.3f' % rmse)\n",
    "    return results_ARIMA"
   ]
  },
  {
   "cell_type": "code",
   "execution_count": null,
   "metadata": {},
   "outputs": [],
   "source": [
    "train_df, X_train, test_df, X_test = get_dataset('temperature')"
   ]
  },
  {
   "cell_type": "code",
   "execution_count": null,
   "metadata": {},
   "outputs": [],
   "source": [
    "# Entrainement de tous les modèles\n",
    "temperature_model = modelisation('temperature')\n",
    "pression_model = modelisation('pression')\n",
    "humidite_model = modelisation('humidite')\n",
    "rosee_model = modelisation('point_de_rosee')\n",
    "vent_moyen_model = modelisation('vent_moyen')\n",
    "vent_direction_model = modelisation('vent_direction')"
   ]
  },
  {
   "cell_type": "code",
   "execution_count": null,
   "metadata": {},
   "outputs": [],
   "source": [
    "# Export de tous les modèles\n",
    "if not os.path.exists('./models'):\n",
    "    os.mkdir('models')\n",
    "    pass\n",
    "with open('models/temperature_model.pkl', \"wb\") as file:\n",
    "    pickle.dump(temperature_model, file)\n",
    "with open('models/pression_model.pkl', \"wb\") as file:\n",
    "    pickle.dump(pression_model, file)\n",
    "with open('models/humidite_model.pkl', \"wb\") as file:\n",
    "    pickle.dump(humidite_model, file)\n",
    "with open('models/rosee_model.pkl', \"wb\") as file:\n",
    "    pickle.dump(rosee_model, file)\n",
    "with open('models/vent_moyen_model.pkl', \"wb\") as file:\n",
    "    pickle.dump(vent_moyen_model, file)\n",
    "with open('models/vent_direction_model.pkl', \"wb\") as file:\n",
    "    pickle.dump(vent_direction_model, file)"
   ]
  },
  {
   "cell_type": "code",
   "execution_count": null,
   "metadata": {},
   "outputs": [],
   "source": [
    "# # Pour relancer avec les données de test\n",
    "\n",
    "# champ = ''\n",
    "\n",
    "# train_df, X_train, test_df, X_test = get_dataset(champ)\n",
    "\n",
    "# history_temp = [x for x in train_df]\n",
    "# predictions_temp = list()\n",
    "\n",
    "# # walk-forward validation\n",
    "# for t in range(len(X_test)):\n",
    "#     model = ARIMA(history_temp, order=(30, 1, 30))\n",
    "#     model_fit = model.fit()\n",
    "#     output = model_fit.forecast()\n",
    "#     yhat = output[0]\n",
    "#     obs = week_test.iloc[t]\n",
    "#     predictions_temp.append(yhat)\n",
    "#     history_temp.append(obs)\n",
    "#     print('predicted=' + str(yhat) +', expected=' + str(obs))"
   ]
  }
 ],
 "metadata": {
  "kernelspec": {
   "display_name": "Python 3",
   "language": "python",
   "name": "python3"
  },
  "language_info": {
   "codemirror_mode": {
    "name": "ipython",
    "version": 3
   },
   "file_extension": ".py",
   "mimetype": "text/x-python",
   "name": "python",
   "nbconvert_exporter": "python",
   "pygments_lexer": "ipython3",
   "version": "3.12.1"
  },
  "orig_nbformat": 4,
  "vscode": {
   "interpreter": {
    "hash": "aee8b7b246df8f9039afb4144a1f6fd8d2ca17a180786b69acc140d282b71a49"
   }
  }
 },
 "nbformat": 4,
 "nbformat_minor": 2
}
