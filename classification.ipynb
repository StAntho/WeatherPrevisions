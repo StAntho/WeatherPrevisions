{
 "cells": [
  {
   "cell_type": "markdown",
   "metadata": {},
   "source": [
    "METADATA\n",
    "<br>\n",
    "000CT: Paris 6ème - Saint Germain des Prés\n",
    "<br>\n",
    "Source: www.infoclimat.fr\n",
    "<br>\n",
    "License Ouverte/Open License: http://wiki.data.gouv.fr/images/9/9d/Licence_Ouverte.pdf\n",
    "<br>\n",
    "<br>\n",
    "temperature = degC\n",
    "<br>\n",
    "pression = hPa\n",
    "<br>\n",
    "humidite = %\n",
    "<br>\n",
    "point_de_rosee = degC\n",
    "<br>\n",
    "vent_moyen = km/h\n",
    "<br>\n",
    "vent_rafales = km/h\n",
    "<br>\n",
    "vent_direction = deg\n",
    "<br>\n",
    "pluie_3h = mm\n",
    "<br>\n",
    "pluie_1h = mm"
   ]
  },
  {
   "cell_type": "markdown",
   "metadata": {},
   "source": [
    "Importation des librairies"
   ]
  },
  {
   "cell_type": "code",
   "execution_count": null,
   "metadata": {},
   "outputs": [],
   "source": [
    "import pandas as pd\n",
    "from sklearn.model_selection import train_test_split\n",
    "from sklearn.ensemble import RandomForestClassifier\n",
    "from sklearn.metrics import accuracy_score, classification_report, roc_curve, auc, confusion_matrix\n",
    "import seaborn as sns\n",
    "import matplotlib.pyplot as plt\n",
    "import pickle\n",
    "import os"
   ]
  },
  {
   "cell_type": "markdown",
   "metadata": {},
   "source": [
    "Lecture du fichier `export_infoclimat.csv`"
   ]
  },
  {
   "cell_type": "code",
   "execution_count": null,
   "metadata": {},
   "outputs": [],
   "source": [
    "data = pd.read_csv('export_infoclimat.csv', sep=';')\n",
    "data"
   ]
  },
  {
   "cell_type": "markdown",
   "metadata": {},
   "source": [
    "Listing des valeurs `null` et `NaN`"
   ]
  },
  {
   "cell_type": "code",
   "execution_count": null,
   "metadata": {},
   "outputs": [],
   "source": [
    "missing_values = data.isnull().sum()\n",
    "missing_values"
   ]
  },
  {
   "cell_type": "markdown",
   "metadata": {},
   "source": [
    "Attribution des données médian à la place de `NaN` pour les colonnes `tempeareture`, `humidite`, `point_de_rosee`, `vent_moyen` et `vent_direction`\n",
    "<br>\n",
    "Retrait de la colonne `vent_rafales`\n",
    "<br>\n",
    "Attribution de la valeur `0` dans les colonnes `pluie_3h` et `pluie_1h` si `NaN`"
   ]
  },
  {
   "cell_type": "code",
   "execution_count": null,
   "metadata": {},
   "outputs": [],
   "source": [
    "# Fonction pour remplacer les valeurs manquantes par la médiane des 3 précédents et 3 suivants\n",
    "def remplacer_par_median_locale(df, colonne):\n",
    "    for i in df[colonne].index[df[colonne].isnull()]:\n",
    "        valeurs_valides = df[colonne][max(i-3,0) : min(i+4, len(df[colonne]))]  # Récupérer les valeurs autour de la valeur manquante\n",
    "        median_locale = valeurs_valides.median()  # Calculer la médiane locale\n",
    "        df.at[i, colonne] = median_locale  # Remplacer la valeur manquante par la médiane locale\n",
    "        pass\n",
    "    return df\n",
    "\n",
    "# Appliquer la fonction aux colonnes spécifiées\n",
    "colonnes = ['temperature', 'humidite', 'point_de_rosee', 'vent_moyen', 'vent_direction']\n",
    "for col in colonnes:\n",
    "    data = remplacer_par_median_locale(data, col)\n",
    "    pass\n",
    "\n",
    "data.drop(columns=['vent_rafales'], inplace=True)\n",
    "\n",
    "data['pluie_3h'] = data['pluie_3h'].fillna(0)\n",
    "data['pluie_1h'] = data['pluie_1h'].fillna(0)\n",
    "\n",
    "data.isnull().sum()"
   ]
  },
  {
   "cell_type": "markdown",
   "metadata": {},
   "source": [
    "Retrait de la colonne `station_id` et mise en format `datetime` de la colonne `dh_utc`"
   ]
  },
  {
   "cell_type": "code",
   "execution_count": null,
   "metadata": {},
   "outputs": [],
   "source": [
    "data.drop(columns=['station_id'], inplace=True)\n",
    "data['dh_utc'] = pd.to_datetime(data['dh_utc'])\n",
    "data"
   ]
  },
  {
   "cell_type": "markdown",
   "metadata": {},
   "source": [
    "Calcul de l'indice de chaleur"
   ]
  },
  {
   "cell_type": "code",
   "execution_count": null,
   "metadata": {},
   "outputs": [],
   "source": [
    "# data['dh_utc'] = pd.to_datetime(data['dh_utc'])\n",
    "\n",
    "# # Ajouter des caractéristiques pour l'heure et le mois\n",
    "# data['heure'] = data['dh_utc'].dt.hour\n",
    "# data['mois'] = data['dh_utc'].dt.month\n",
    "\n",
    "# # Fonction pour calculer l'indice de chaleur (approximation simple)\n",
    "# def calculer_indice_chaleur(temp_celsius, humidite):\n",
    "#     temp_fahrenheit = 9/5 * temp_celsius + 32\n",
    "#     indice = -42.379 + 2.04901523*temp_fahrenheit + 10.14333127*humidite \\\n",
    "#             - 0.22475541*temp_fahrenheit*humidite - 6.83783*10**-3*temp_fahrenheit**2 \\\n",
    "#             - 5.481717*10**-2*humidite**2 + 1.22874*10**-3*temp_fahrenheit**2*humidite \\\n",
    "#             + 8.5282*10**-4*temp_fahrenheit*humidite**2 - 1.99*10**-6*temp_fahrenheit**2*humidite**2\n",
    "#     return (indice - 32) * 5/9  # Convertir en Celsius pour le retour\n",
    "\n",
    "# # Ajout de l'indice de chaleur au DataFrame\n",
    "# data['indice_chaleur'] = data.apply(lambda row: calculer_indice_chaleur(row['temperature'], row['humidite']), axis=1)\n",
    "\n",
    "# # Vérification des premières lignes pour s'assurer que la colonne a été ajoutée correctement\n",
    "# data[['temperature', 'humidite', 'indice_chaleur']].head()"
   ]
  },
  {
   "cell_type": "code",
   "execution_count": null,
   "metadata": {},
   "outputs": [],
   "source": [
    "# data"
   ]
  },
  {
   "cell_type": "markdown",
   "metadata": {},
   "source": [
    "### Classification de la colonne `pluie_1h` selon les paramètres `temperature`, `pression`, `humidite` et `vent_moyen`"
   ]
  },
  {
   "cell_type": "code",
   "execution_count": null,
   "metadata": {},
   "outputs": [],
   "source": [
    "# Récupération des paramètres\n",
    "X = data[['temperature', 'pression', 'humidite', 'vent_moyen']]\n",
    "y = (data['pluie_1h'] > 0).astype(int) # 1 = pluie 0 = pas pluie\n",
    "\n",
    "# Séparation des données en ensembles d'entraînement et de test\n",
    "X_train, X_test, y_train, y_test = train_test_split(X, y, test_size=0.2, random_state=42)\n",
    "\n",
    "# Création et entraînement du modèle de forêt aléatoire\n",
    "model = RandomForestClassifier(n_estimators=100, random_state=42)\n",
    "model.fit(X_train, y_train)\n",
    "\n",
    "# Prédiction sur l'ensemble de test\n",
    "y_pred = model.predict(X_test)\n",
    "\n",
    "# Évaluation de la performance\n",
    "accuracy = accuracy_score(y_test, y_pred)\n",
    "print(f'Accuracy: {accuracy}')\n",
    "print(classification_report(y_test, y_pred))"
   ]
  },
  {
   "cell_type": "code",
   "execution_count": null,
   "metadata": {},
   "outputs": [],
   "source": [
    "# Création du répertoire models s'il n'existe pas\n",
    "if not os.path.exists('./models'):\n",
    "    os.mkdir('models')\n",
    "    pass\n",
    "\n",
    "# Stockage du model de classification en pickle\n",
    "pickle.dump(model, open('./models/classification_model.pickle', 'wb'))"
   ]
  },
  {
   "cell_type": "code",
   "execution_count": null,
   "metadata": {},
   "outputs": [],
   "source": [
    "# Calcul de la matrice de confusion\n",
    "cm = confusion_matrix(y_test, y_pred)\n",
    "\n",
    "# Affichage de la matrice de confusion avec Seaborn\n",
    "plt.figure(figsize=(10,7))\n",
    "sns.heatmap(cm, annot=True, fmt='d', cmap='Blues', xticklabels=['Non Pluvieux', 'Pluvieux'], yticklabels=['Non Pluvieux', 'Pluvieux'])\n",
    "plt.xlabel('Prédit')\n",
    "plt.ylabel('Réel')\n",
    "plt.title('Matrice de Confusion')\n",
    "plt.show()"
   ]
  },
  {
   "cell_type": "code",
   "execution_count": null,
   "metadata": {},
   "outputs": [],
   "source": [
    "# Calcul des taux de faux positifs et vrais positifs\n",
    "fpr, tpr, thresholds = roc_curve(y_test, model.predict_proba(X_test)[:,1])\n",
    "\n",
    "# Calcul de l'aire sous la courbe ROC\n",
    "roc_auc = auc(fpr, tpr)\n",
    "\n",
    "# Affichage de la courbe ROC\n",
    "plt.figure(figsize=(8, 6))\n",
    "plt.plot(fpr, tpr, color='darkorange', lw=2, label='ROC curve (area = %0.2f)' % roc_auc)\n",
    "plt.plot([0, 1], [0, 1], color='navy', lw=2, linestyle='--')\n",
    "plt.xlim([0.0, 1.0])\n",
    "plt.ylim([0.0, 1.05])\n",
    "plt.xlabel('Taux de Faux Positif')\n",
    "plt.ylabel('Taux de Vrai Positif')\n",
    "plt.title('Courbe ROC')\n",
    "plt.legend(loc=\"lower right\")\n",
    "plt.show()"
   ]
  },
  {
   "cell_type": "code",
   "execution_count": null,
   "metadata": {},
   "outputs": [],
   "source": [
    "# Affichage de l'importance des caractéristiques\n",
    "feature_importances = pd.Series(model.feature_importances_, index=X_train.columns).sort_values(ascending=False)\n",
    "\n",
    "plt.figure(figsize=(12,8))\n",
    "feature_importances.plot(kind='bar')\n",
    "plt.title('Importance des Caractéristiques')\n",
    "plt.xlabel('Caractéristiques')\n",
    "plt.ylabel('Importance')\n",
    "plt.show()"
   ]
  },
  {
   "cell_type": "markdown",
   "metadata": {},
   "source": [
    "### Réutilisation du model"
   ]
  },
  {
   "cell_type": "code",
   "execution_count": null,
   "metadata": {},
   "outputs": [],
   "source": [
    "# Chargement du modèle depuis le fichier pickle\n",
    "model = pickle.load(open('./models/classification_model.pickle', 'rb'))"
   ]
  },
  {
   "cell_type": "code",
   "execution_count": null,
   "metadata": {},
   "outputs": [],
   "source": [
    "# Initialisation des données de test\n",
    "temperature = 15\n",
    "pression = 1010\n",
    "humidite = 80\n",
    "vent_moyen = 5\n",
    "\n",
    "exemple_entree = pd.DataFrame([[temperature, pression, humidite, vent_moyen]], columns=['temperature', 'pression', 'humidite', 'vent_moyen'])\n",
    "exemple_entree"
   ]
  },
  {
   "cell_type": "code",
   "execution_count": null,
   "metadata": {},
   "outputs": [],
   "source": [
    "# Prédiction selon mes données de test\n",
    "prediction = model.predict(exemple_entree)\n",
    "\n",
    "# Afficher le résultat de la prédiction\n",
    "if prediction[0] == 1:\n",
    "    print(\"Il va probablement pleuvoir.\")\n",
    "else:\n",
    "    print(\"Il ne devrait pas pleuvoir.\")"
   ]
  }
 ],
 "metadata": {
  "kernelspec": {
   "display_name": "Python 3",
   "language": "python",
   "name": "python3"
  },
  "language_info": {
   "codemirror_mode": {
    "name": "ipython",
    "version": 3
   },
   "file_extension": ".py",
   "mimetype": "text/x-python",
   "name": "python",
   "nbconvert_exporter": "python",
   "pygments_lexer": "ipython3",
   "version": "3.12.2"
  }
 },
 "nbformat": 4,
 "nbformat_minor": 2
}
